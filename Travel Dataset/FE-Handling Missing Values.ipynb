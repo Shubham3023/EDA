{
 "cells": [
  {
   "cell_type": "code",
   "execution_count": 2,
   "id": "34e29270",
   "metadata": {},
   "outputs": [],
   "source": [
    "# importing required libraries\n",
    "\n",
    "import pandas as pd\n",
    "import numpy as np\n",
    "import seaborn as sns\n",
    "import matplotlib.pyplot as plt\n",
    "import statistics as stat\n",
    "import random\n",
    "%matplotlib inline\n",
    "\n",
    "# To display maximum columns of dataframe on screen\n",
    "pd.pandas.set_option('display.max_columns', None)"
   ]
  },
  {
   "cell_type": "code",
   "execution_count": 3,
   "id": "f6f7f21a",
   "metadata": {},
   "outputs": [
    {
     "data": {
      "text/html": [
       "<div>\n",
       "<style scoped>\n",
       "    .dataframe tbody tr th:only-of-type {\n",
       "        vertical-align: middle;\n",
       "    }\n",
       "\n",
       "    .dataframe tbody tr th {\n",
       "        vertical-align: top;\n",
       "    }\n",
       "\n",
       "    .dataframe thead th {\n",
       "        text-align: right;\n",
       "    }\n",
       "</style>\n",
       "<table border=\"1\" class=\"dataframe\">\n",
       "  <thead>\n",
       "    <tr style=\"text-align: right;\">\n",
       "      <th></th>\n",
       "      <th>CustomerID</th>\n",
       "      <th>ProdTaken</th>\n",
       "      <th>Age</th>\n",
       "      <th>TypeofContact</th>\n",
       "      <th>CityTier</th>\n",
       "      <th>DurationOfPitch</th>\n",
       "      <th>Occupation</th>\n",
       "      <th>Gender</th>\n",
       "      <th>NumberOfPersonVisiting</th>\n",
       "      <th>NumberOfFollowups</th>\n",
       "      <th>ProductPitched</th>\n",
       "      <th>PreferredPropertyStar</th>\n",
       "      <th>MaritalStatus</th>\n",
       "      <th>NumberOfTrips</th>\n",
       "      <th>Passport</th>\n",
       "      <th>PitchSatisfactionScore</th>\n",
       "      <th>OwnCar</th>\n",
       "      <th>NumberOfChildrenVisiting</th>\n",
       "      <th>Designation</th>\n",
       "      <th>MonthlyIncome</th>\n",
       "    </tr>\n",
       "  </thead>\n",
       "  <tbody>\n",
       "    <tr>\n",
       "      <th>0</th>\n",
       "      <td>200000</td>\n",
       "      <td>1</td>\n",
       "      <td>41.0</td>\n",
       "      <td>Self Enquiry</td>\n",
       "      <td>3</td>\n",
       "      <td>6.0</td>\n",
       "      <td>Salaried</td>\n",
       "      <td>Female</td>\n",
       "      <td>3</td>\n",
       "      <td>3.0</td>\n",
       "      <td>Deluxe</td>\n",
       "      <td>3.0</td>\n",
       "      <td>Single</td>\n",
       "      <td>1.0</td>\n",
       "      <td>1</td>\n",
       "      <td>2</td>\n",
       "      <td>1</td>\n",
       "      <td>0.0</td>\n",
       "      <td>Manager</td>\n",
       "      <td>20993.0</td>\n",
       "    </tr>\n",
       "    <tr>\n",
       "      <th>1</th>\n",
       "      <td>200001</td>\n",
       "      <td>0</td>\n",
       "      <td>49.0</td>\n",
       "      <td>Company Invited</td>\n",
       "      <td>1</td>\n",
       "      <td>14.0</td>\n",
       "      <td>Salaried</td>\n",
       "      <td>Male</td>\n",
       "      <td>3</td>\n",
       "      <td>4.0</td>\n",
       "      <td>Deluxe</td>\n",
       "      <td>4.0</td>\n",
       "      <td>Divorced</td>\n",
       "      <td>2.0</td>\n",
       "      <td>0</td>\n",
       "      <td>3</td>\n",
       "      <td>1</td>\n",
       "      <td>2.0</td>\n",
       "      <td>Manager</td>\n",
       "      <td>20130.0</td>\n",
       "    </tr>\n",
       "    <tr>\n",
       "      <th>2</th>\n",
       "      <td>200002</td>\n",
       "      <td>1</td>\n",
       "      <td>37.0</td>\n",
       "      <td>Self Enquiry</td>\n",
       "      <td>1</td>\n",
       "      <td>8.0</td>\n",
       "      <td>Free Lancer</td>\n",
       "      <td>Male</td>\n",
       "      <td>3</td>\n",
       "      <td>4.0</td>\n",
       "      <td>Basic</td>\n",
       "      <td>3.0</td>\n",
       "      <td>Single</td>\n",
       "      <td>7.0</td>\n",
       "      <td>1</td>\n",
       "      <td>3</td>\n",
       "      <td>0</td>\n",
       "      <td>0.0</td>\n",
       "      <td>Executive</td>\n",
       "      <td>17090.0</td>\n",
       "    </tr>\n",
       "    <tr>\n",
       "      <th>3</th>\n",
       "      <td>200003</td>\n",
       "      <td>0</td>\n",
       "      <td>33.0</td>\n",
       "      <td>Company Invited</td>\n",
       "      <td>1</td>\n",
       "      <td>9.0</td>\n",
       "      <td>Salaried</td>\n",
       "      <td>Female</td>\n",
       "      <td>2</td>\n",
       "      <td>3.0</td>\n",
       "      <td>Basic</td>\n",
       "      <td>3.0</td>\n",
       "      <td>Divorced</td>\n",
       "      <td>2.0</td>\n",
       "      <td>1</td>\n",
       "      <td>5</td>\n",
       "      <td>1</td>\n",
       "      <td>1.0</td>\n",
       "      <td>Executive</td>\n",
       "      <td>17909.0</td>\n",
       "    </tr>\n",
       "    <tr>\n",
       "      <th>4</th>\n",
       "      <td>200004</td>\n",
       "      <td>0</td>\n",
       "      <td>NaN</td>\n",
       "      <td>Self Enquiry</td>\n",
       "      <td>1</td>\n",
       "      <td>8.0</td>\n",
       "      <td>Small Business</td>\n",
       "      <td>Male</td>\n",
       "      <td>2</td>\n",
       "      <td>3.0</td>\n",
       "      <td>Basic</td>\n",
       "      <td>4.0</td>\n",
       "      <td>Divorced</td>\n",
       "      <td>1.0</td>\n",
       "      <td>0</td>\n",
       "      <td>5</td>\n",
       "      <td>1</td>\n",
       "      <td>0.0</td>\n",
       "      <td>Executive</td>\n",
       "      <td>18468.0</td>\n",
       "    </tr>\n",
       "  </tbody>\n",
       "</table>\n",
       "</div>"
      ],
      "text/plain": [
       "   CustomerID  ProdTaken   Age    TypeofContact  CityTier  DurationOfPitch  \\\n",
       "0      200000          1  41.0     Self Enquiry         3              6.0   \n",
       "1      200001          0  49.0  Company Invited         1             14.0   \n",
       "2      200002          1  37.0     Self Enquiry         1              8.0   \n",
       "3      200003          0  33.0  Company Invited         1              9.0   \n",
       "4      200004          0   NaN     Self Enquiry         1              8.0   \n",
       "\n",
       "       Occupation  Gender  NumberOfPersonVisiting  NumberOfFollowups  \\\n",
       "0        Salaried  Female                       3                3.0   \n",
       "1        Salaried    Male                       3                4.0   \n",
       "2     Free Lancer    Male                       3                4.0   \n",
       "3        Salaried  Female                       2                3.0   \n",
       "4  Small Business    Male                       2                3.0   \n",
       "\n",
       "  ProductPitched  PreferredPropertyStar MaritalStatus  NumberOfTrips  \\\n",
       "0         Deluxe                    3.0        Single            1.0   \n",
       "1         Deluxe                    4.0      Divorced            2.0   \n",
       "2          Basic                    3.0        Single            7.0   \n",
       "3          Basic                    3.0      Divorced            2.0   \n",
       "4          Basic                    4.0      Divorced            1.0   \n",
       "\n",
       "   Passport  PitchSatisfactionScore  OwnCar  NumberOfChildrenVisiting  \\\n",
       "0         1                       2       1                       0.0   \n",
       "1         0                       3       1                       2.0   \n",
       "2         1                       3       0                       0.0   \n",
       "3         1                       5       1                       1.0   \n",
       "4         0                       5       1                       0.0   \n",
       "\n",
       "  Designation  MonthlyIncome  \n",
       "0     Manager        20993.0  \n",
       "1     Manager        20130.0  \n",
       "2   Executive        17090.0  \n",
       "3   Executive        17909.0  \n",
       "4   Executive        18468.0  "
      ]
     },
     "execution_count": 3,
     "metadata": {},
     "output_type": "execute_result"
    }
   ],
   "source": [
    "dataset=pd.read_csv('Travel.csv')\n",
    "dataset.head()"
   ]
  },
  {
   "cell_type": "markdown",
   "id": "73ca1b61",
   "metadata": {},
   "source": [
    "### 1.1 Getting all features containing NaN values "
   ]
  },
  {
   "cell_type": "code",
   "execution_count": 4,
   "id": "b5b402ac",
   "metadata": {},
   "outputs": [
    {
     "data": {
      "text/plain": [
       "['Age',\n",
       " 'TypeofContact',\n",
       " 'DurationOfPitch',\n",
       " 'NumberOfFollowups',\n",
       " 'PreferredPropertyStar',\n",
       " 'NumberOfTrips',\n",
       " 'NumberOfChildrenVisiting',\n",
       " 'MonthlyIncome']"
      ]
     },
     "execution_count": 4,
     "metadata": {},
     "output_type": "execute_result"
    }
   ],
   "source": [
    "# Getting features containing nan values\n",
    "feature_nan=[feature for feature in dataset.columns if dataset[feature].isnull().sum()>1 ]\n",
    "feature_nan"
   ]
  },
  {
   "cell_type": "markdown",
   "id": "e81b2545",
   "metadata": {},
   "source": [
    "### 1.2 Getting categorical feature containing nan values"
   ]
  },
  {
   "cell_type": "code",
   "execution_count": 5,
   "id": "893b9979",
   "metadata": {},
   "outputs": [
    {
     "data": {
      "text/plain": [
       "['TypeofContact']"
      ]
     },
     "execution_count": 5,
     "metadata": {},
     "output_type": "execute_result"
    }
   ],
   "source": [
    "categorical_feature_nan=[feature for feature in feature_nan if dataset[feature].dtypes==\"O\"]\n",
    "categorical_feature_nan"
   ]
  },
  {
   "cell_type": "markdown",
   "id": "34373de8",
   "metadata": {},
   "source": [
    "### 1.3 Getting numerical feature containing nan values"
   ]
  },
  {
   "cell_type": "code",
   "execution_count": 6,
   "id": "2b49ae1d",
   "metadata": {},
   "outputs": [
    {
     "data": {
      "text/plain": [
       "['Age',\n",
       " 'DurationOfPitch',\n",
       " 'NumberOfFollowups',\n",
       " 'PreferredPropertyStar',\n",
       " 'NumberOfTrips',\n",
       " 'NumberOfChildrenVisiting',\n",
       " 'MonthlyIncome']"
      ]
     },
     "execution_count": 6,
     "metadata": {},
     "output_type": "execute_result"
    }
   ],
   "source": [
    "numerical_feature_nan=[feature for feature in feature_nan if dataset[feature].dtypes!='O']\n",
    "numerical_feature_nan"
   ]
  },
  {
   "cell_type": "markdown",
   "id": "7483743d",
   "metadata": {},
   "source": [
    "## 2.0 Filling missing value in categorical feature"
   ]
  },
  {
   "cell_type": "markdown",
   "id": "01aa2c75",
   "metadata": {},
   "source": [
    "### 2.1 Using mode"
   ]
  },
  {
   "cell_type": "code",
   "execution_count": 26,
   "id": "aa749d04",
   "metadata": {},
   "outputs": [
    {
     "data": {
      "text/plain": [
       "0"
      ]
     },
     "execution_count": 26,
     "metadata": {},
     "output_type": "execute_result"
    }
   ],
   "source": [
    "for feature in categorical_feature_nan:\n",
    "    data1=dataset.copy()\n",
    "    value = dataset[feature].mode()[0]\n",
    "    data1[feature]=data1[feature].fillna('value')\n",
    "\n",
    "data1['TypeofContact'].isnull().sum()"
   ]
  },
  {
   "cell_type": "markdown",
   "id": "c2e884f7",
   "metadata": {},
   "source": [
    "### 2.2 Using random value from feature "
   ]
  },
  {
   "cell_type": "code",
   "execution_count": 8,
   "id": "0bcd12e2",
   "metadata": {},
   "outputs": [
    {
     "data": {
      "text/plain": [
       "25"
      ]
     },
     "execution_count": 8,
     "metadata": {},
     "output_type": "execute_result"
    }
   ],
   "source": [
    "dataset['TypeofContact'].isnull().sum()"
   ]
  },
  {
   "cell_type": "code",
   "execution_count": 9,
   "id": "746adc65",
   "metadata": {},
   "outputs": [
    {
     "data": {
      "text/plain": [
       "0"
      ]
     },
     "execution_count": 9,
     "metadata": {},
     "output_type": "execute_result"
    }
   ],
   "source": [
    "for feature in categorical_feature_nan:\n",
    "    data1=dataset.copy()\n",
    "    value = random.choice(list(dataset[feature])) \n",
    "    data1[feature]=data1[feature].fillna(value)\n",
    "\n",
    "data1['TypeofContact'].isnull().sum()"
   ]
  },
  {
   "cell_type": "markdown",
   "id": "96297041",
   "metadata": {},
   "source": [
    "### 2.3 Using Missing String from feature "
   ]
  },
  {
   "cell_type": "code",
   "execution_count": 10,
   "id": "67a839b6",
   "metadata": {},
   "outputs": [
    {
     "data": {
      "text/plain": [
       "0"
      ]
     },
     "execution_count": 10,
     "metadata": {},
     "output_type": "execute_result"
    }
   ],
   "source": [
    "for feature in categorical_feature_nan:\n",
    "    data1=dataset.copy()\n",
    "    value = random.choice(list(dataset[feature])) \n",
    "    data1[feature]=data1[feature].fillna('Missing')\n",
    "\n",
    "data1['TypeofContact'].isnull().sum()"
   ]
  },
  {
   "cell_type": "code",
   "execution_count": 11,
   "id": "75af7217",
   "metadata": {},
   "outputs": [
    {
     "data": {
      "text/plain": [
       "'Missing'"
      ]
     },
     "execution_count": 11,
     "metadata": {},
     "output_type": "execute_result"
    }
   ],
   "source": [
    "data1['TypeofContact'][224]"
   ]
  },
  {
   "cell_type": "markdown",
   "id": "08794839",
   "metadata": {},
   "source": [
    "### 2.4 Droping missing values from feature "
   ]
  },
  {
   "cell_type": "code",
   "execution_count": 12,
   "id": "83f7ce04",
   "metadata": {},
   "outputs": [
    {
     "data": {
      "text/plain": [
       "0"
      ]
     },
     "execution_count": 12,
     "metadata": {},
     "output_type": "execute_result"
    }
   ],
   "source": [
    "data1=dataset.copy()\n",
    "data1.dropna(subset=['TypeofContact'], inplace=True)\n",
    "\n",
    "data1['TypeofContact'].isnull().sum()"
   ]
  },
  {
   "cell_type": "markdown",
   "id": "710744f0",
   "metadata": {},
   "source": [
    "### 3.0 Filling Missing value in Numerical features"
   ]
  },
  {
   "cell_type": "markdown",
   "id": "01a22e8f",
   "metadata": {},
   "source": [
    "###  Getting Missing Value Percentage"
   ]
  },
  {
   "cell_type": "code",
   "execution_count": 13,
   "id": "de67de31",
   "metadata": {},
   "outputs": [
    {
     "name": "stdout",
     "output_type": "stream",
     "text": [
      "Age has 4.624 % of missing values\n",
      "DurationOfPitch has 5.135 % of missing values\n",
      "NumberOfFollowups has 0.921 % of missing values\n",
      "PreferredPropertyStar has 0.532 % of missing values\n",
      "NumberOfTrips has 2.864 % of missing values\n",
      "NumberOfChildrenVisiting has 1.35 % of missing values\n",
      "MonthlyIncome has 4.767 % of missing values\n"
     ]
    }
   ],
   "source": [
    "for feature in numerical_feature_nan:\n",
    "    print(\"{} has {} % of missing values\".format(feature, np.round((dataset[feature].isnull().mean())*100,3)))"
   ]
  },
  {
   "cell_type": "markdown",
   "id": "af2a75a5",
   "metadata": {},
   "source": [
    "### 3.1 Droping missing values from feature "
   ]
  },
  {
   "cell_type": "code",
   "execution_count": 14,
   "id": "7b52bb73",
   "metadata": {},
   "outputs": [],
   "source": [
    "data2=dataset.copy()\n",
    "data2.dropna(inplace=True)"
   ]
  },
  {
   "cell_type": "code",
   "execution_count": 15,
   "id": "70f93120",
   "metadata": {},
   "outputs": [
    {
     "name": "stdout",
     "output_type": "stream",
     "text": [
      "Age has 0.0 % of missing values\n",
      "DurationOfPitch has 0.0 % of missing values\n",
      "NumberOfFollowups has 0.0 % of missing values\n",
      "PreferredPropertyStar has 0.0 % of missing values\n",
      "NumberOfTrips has 0.0 % of missing values\n",
      "NumberOfChildrenVisiting has 0.0 % of missing values\n",
      "MonthlyIncome has 0.0 % of missing values\n"
     ]
    }
   ],
   "source": [
    "# checking missing value percentage after performing above operation\n",
    "for feature in numerical_feature_nan:\n",
    "    print(\"{} has {} % of missing values\".format(feature, np.round((data2[feature].isnull().mean())*100,3)))"
   ]
  },
  {
   "cell_type": "markdown",
   "id": "304aced5",
   "metadata": {},
   "source": [
    "### 3.2 Filling missing values with Maximum value from each feature "
   ]
  },
  {
   "cell_type": "code",
   "execution_count": 16,
   "id": "0b58d163",
   "metadata": {},
   "outputs": [],
   "source": [
    "data2=dataset.copy()\n",
    "for feature in numerical_feature_nan:\n",
    "    value = data2[feature].max()\n",
    "    data2[feature]=data2[feature].fillna(value)\n"
   ]
  },
  {
   "cell_type": "code",
   "execution_count": 17,
   "id": "c75c806d",
   "metadata": {},
   "outputs": [
    {
     "name": "stdout",
     "output_type": "stream",
     "text": [
      "Age has 0.0 % of missing values\n",
      "DurationOfPitch has 0.0 % of missing values\n",
      "NumberOfFollowups has 0.0 % of missing values\n",
      "PreferredPropertyStar has 0.0 % of missing values\n",
      "NumberOfTrips has 0.0 % of missing values\n",
      "NumberOfChildrenVisiting has 0.0 % of missing values\n",
      "MonthlyIncome has 0.0 % of missing values\n"
     ]
    }
   ],
   "source": [
    "# checking missing value percentage after performing above operation\n",
    "for feature in numerical_feature_nan:\n",
    "    print(\"{} has {} % of missing values\".format(feature, np.round((data2[feature].isnull().mean())*100,3)))"
   ]
  },
  {
   "cell_type": "markdown",
   "id": "ab18ca3c",
   "metadata": {},
   "source": [
    "### 3.3 Filling missing values with Minimum value from each feature "
   ]
  },
  {
   "cell_type": "code",
   "execution_count": 18,
   "id": "64900866",
   "metadata": {},
   "outputs": [
    {
     "name": "stdout",
     "output_type": "stream",
     "text": [
      "Age has 0.0 % of missing values\n",
      "DurationOfPitch has 0.0 % of missing values\n",
      "NumberOfFollowups has 0.0 % of missing values\n",
      "PreferredPropertyStar has 0.0 % of missing values\n",
      "NumberOfTrips has 0.0 % of missing values\n",
      "NumberOfChildrenVisiting has 0.0 % of missing values\n",
      "MonthlyIncome has 0.0 % of missing values\n"
     ]
    }
   ],
   "source": [
    "data2=dataset.copy()\n",
    "for feature in numerical_feature_nan:\n",
    "    value = data2[feature].min()\n",
    "    data2[feature]=data2[feature].fillna(value)\n",
    "    \n",
    "# checking missing value percentage after performing above operation\n",
    "for feature in numerical_feature_nan:\n",
    "    print(\"{} has {} % of missing values\".format(feature, np.round((data2[feature].isnull().mean())*100,3)))"
   ]
  },
  {
   "cell_type": "markdown",
   "id": "c40eb196",
   "metadata": {},
   "source": [
    "### 3.4 Filling missing values with mean value from each feature "
   ]
  },
  {
   "cell_type": "code",
   "execution_count": 19,
   "id": "d519405d",
   "metadata": {},
   "outputs": [
    {
     "name": "stdout",
     "output_type": "stream",
     "text": [
      "Age has 0.0 % of missing values\n",
      "DurationOfPitch has 0.0 % of missing values\n",
      "NumberOfFollowups has 0.0 % of missing values\n",
      "PreferredPropertyStar has 0.0 % of missing values\n",
      "NumberOfTrips has 0.0 % of missing values\n",
      "NumberOfChildrenVisiting has 0.0 % of missing values\n",
      "MonthlyIncome has 0.0 % of missing values\n"
     ]
    }
   ],
   "source": [
    "data2=dataset.copy()\n",
    "for feature in numerical_feature_nan:\n",
    "    value = round(data2[feature].mean())\n",
    "    data2[feature]=data2[feature].fillna(value)\n",
    "    \n",
    "# checking missing value percentage after performing above operation\n",
    "for feature in numerical_feature_nan:\n",
    "    print(\"{} has {} % of missing values\".format(feature, np.round((data2[feature].isnull().mean())*100,3)))"
   ]
  },
  {
   "cell_type": "markdown",
   "id": "34e88bfd",
   "metadata": {},
   "source": [
    "### 3.5 Filling missing values with median value from each feature "
   ]
  },
  {
   "cell_type": "code",
   "execution_count": 20,
   "id": "85a35bcf",
   "metadata": {},
   "outputs": [
    {
     "name": "stdout",
     "output_type": "stream",
     "text": [
      "Age has 0.0 % of missing values\n",
      "DurationOfPitch has 0.0 % of missing values\n",
      "NumberOfFollowups has 0.0 % of missing values\n",
      "PreferredPropertyStar has 0.0 % of missing values\n",
      "NumberOfTrips has 0.0 % of missing values\n",
      "NumberOfChildrenVisiting has 0.0 % of missing values\n",
      "MonthlyIncome has 0.0 % of missing values\n"
     ]
    }
   ],
   "source": [
    "data2=dataset.copy()\n",
    "for feature in numerical_feature_nan:\n",
    "    value = data2[feature].median()\n",
    "    data2[feature]=data2[feature].fillna(value)\n",
    "    \n",
    "# checking missing value percentage after performing above operation\n",
    "for feature in numerical_feature_nan:\n",
    "    print(\"{} has {} % of missing values\".format(feature, np.round((data2[feature].isnull().mean())*100,3)))"
   ]
  },
  {
   "cell_type": "markdown",
   "id": "f7813609",
   "metadata": {},
   "source": [
    "### 3.6 Filling missing values with mode value from each feature "
   ]
  },
  {
   "cell_type": "code",
   "execution_count": 21,
   "id": "9f5e3d03",
   "metadata": {},
   "outputs": [
    {
     "name": "stdout",
     "output_type": "stream",
     "text": [
      "Age has 0.0 % of missing values\n",
      "DurationOfPitch has 0.0 % of missing values\n",
      "NumberOfFollowups has 0.0 % of missing values\n",
      "PreferredPropertyStar has 0.0 % of missing values\n",
      "NumberOfTrips has 0.0 % of missing values\n",
      "NumberOfChildrenVisiting has 0.0 % of missing values\n",
      "MonthlyIncome has 0.0 % of missing values\n"
     ]
    }
   ],
   "source": [
    "data2=dataset.copy()\n",
    "for feature in numerical_feature_nan:\n",
    "    value = data2[feature].mode()[0]\n",
    "    data2[feature]=data2[feature].fillna(value)\n",
    "    \n",
    "# checking missing value percentage after performing above operation\n",
    "for feature in numerical_feature_nan:\n",
    "    print(\"{} has {} % of missing values\".format(feature, np.round((data2[feature].isnull().mean())*100,3)))"
   ]
  },
  {
   "cell_type": "markdown",
   "id": "5371e37a",
   "metadata": {},
   "source": [
    "## 3.7 Filling missing values with mode value from each feature \n",
    "1. Replacing missing values with a value at the end of the variable distribution is equivalent to replacing them with an arbitrary value, but instead of identifying the arbitrary values manually, these values are automatically selected as those at the very end of the variable distribution. The values that are used to replace missing information are estimated using the mean plus or minus three times the standard deviation if the variable is normally distributed, or the inter-quartile range (IQR) proximity rule otherwise. According to the IQR proximity rule, missing values will be replaced with the 75th quantile + (IQR * 1.5) at the right tail or by the 25th quantile - (IQR * 1.5) at the left tail. The IQR is given by the 75th quantile - the 25th quantile."
   ]
  },
  {
   "cell_type": "markdown",
   "id": "5691041d",
   "metadata": {},
   "source": [
    "### 3.7.1 Using value at left tail"
   ]
  },
  {
   "cell_type": "code",
   "execution_count": 22,
   "id": "2b042b21",
   "metadata": {},
   "outputs": [
    {
     "name": "stdout",
     "output_type": "stream",
     "text": [
      "Age has 0.0 % of missing values\n",
      "DurationOfPitch has 0.0 % of missing values\n",
      "NumberOfFollowups has 0.0 % of missing values\n",
      "PreferredPropertyStar has 0.0 % of missing values\n",
      "NumberOfTrips has 0.0 % of missing values\n",
      "NumberOfChildrenVisiting has 0.0 % of missing values\n",
      "MonthlyIncome has 0.0 % of missing values\n"
     ]
    }
   ],
   "source": [
    "data2=dataset.copy()\n",
    "\n",
    "for feature in numerical_feature_nan:\n",
    "    IQR=data2[feature].quantile(0.75)-data2[feature].quantile(0.25)\n",
    "    value= data2[feature].quantile(0.25)-(1.5*IQR)\n",
    "    data2[feature]=data2[feature].fillna(value)\n",
    "    \n",
    "# checking missing value percentage after performing above operation\n",
    "for feature in numerical_feature_nan:\n",
    "    print(\"{} has {} % of missing values\".format(feature, np.round((data2[feature].isnull().mean())*100,3)))"
   ]
  },
  {
   "cell_type": "markdown",
   "id": "90416745",
   "metadata": {},
   "source": [
    "### 3.7.2 Using value at right tail"
   ]
  },
  {
   "cell_type": "code",
   "execution_count": 23,
   "id": "7a8d448f",
   "metadata": {},
   "outputs": [
    {
     "name": "stdout",
     "output_type": "stream",
     "text": [
      "Age has 0.0 % of missing values\n",
      "DurationOfPitch has 0.0 % of missing values\n",
      "NumberOfFollowups has 0.0 % of missing values\n",
      "PreferredPropertyStar has 0.0 % of missing values\n",
      "NumberOfTrips has 0.0 % of missing values\n",
      "NumberOfChildrenVisiting has 0.0 % of missing values\n",
      "MonthlyIncome has 0.0 % of missing values\n"
     ]
    }
   ],
   "source": [
    "data2=dataset.copy()\n",
    "\n",
    "for feature in numerical_feature_nan:\n",
    "    IQR=data2[feature].quantile(0.75)-data2[feature].quantile(0.25)\n",
    "    value= data2[feature].quantile(0.75)+(1.5*IQR)\n",
    "    data2[feature]=data2[feature].fillna(value)\n",
    "    \n",
    "# checking missing value percentage after performing above operation\n",
    "for feature in numerical_feature_nan:\n",
    "    print(\"{} has {} % of missing values\".format(feature, np.round((data2[feature].isnull().mean())*100,3)))"
   ]
  },
  {
   "cell_type": "markdown",
   "id": "7a38f14e",
   "metadata": {},
   "source": [
    "## 3.8 Filling missing values using forward and backword filling"
   ]
  },
  {
   "cell_type": "markdown",
   "id": "0fff4381",
   "metadata": {},
   "source": [
    "### 3.8.1 Using Forward filling\n",
    "1.When ffill() is applied across the index then any missing value is filled based on the corresponding value in the previous row."
   ]
  },
  {
   "cell_type": "code",
   "execution_count": 24,
   "id": "c4ae4620",
   "metadata": {},
   "outputs": [
    {
     "name": "stdout",
     "output_type": "stream",
     "text": [
      "Age has 0.0 % of missing values\n",
      "DurationOfPitch has 0.0 % of missing values\n",
      "NumberOfFollowups has 0.0 % of missing values\n",
      "PreferredPropertyStar has 0.0 % of missing values\n",
      "NumberOfTrips has 0.0 % of missing values\n",
      "NumberOfChildrenVisiting has 0.0 % of missing values\n",
      "MonthlyIncome has 0.0 % of missing values\n"
     ]
    }
   ],
   "source": [
    "data2=dataset.copy()\n",
    "for feature in numerical_feature_nan:\n",
    "    data2[feature]=data2[feature].ffill()\n",
    "\n",
    "# checking missing value percentage after performing above operation\n",
    "for feature in numerical_feature_nan:\n",
    "    print(\"{} has {} % of missing values\".format(feature, np.round((data2[feature].isnull().mean())*100,3)))"
   ]
  },
  {
   "cell_type": "markdown",
   "id": "e3284dc3",
   "metadata": {},
   "source": [
    "### 3.8.1 Using Backward filling\n",
    "1.When bfill() is applied then value in current na cells are filled from the corresponding value in the next row. If the next row is also na value then it won’t be populated."
   ]
  },
  {
   "cell_type": "code",
   "execution_count": 25,
   "id": "17b1665d",
   "metadata": {},
   "outputs": [
    {
     "name": "stdout",
     "output_type": "stream",
     "text": [
      "Age has 0.0 % of missing values\n",
      "DurationOfPitch has 0.0 % of missing values\n",
      "NumberOfFollowups has 0.0 % of missing values\n",
      "PreferredPropertyStar has 0.0 % of missing values\n",
      "NumberOfTrips has 0.0 % of missing values\n",
      "NumberOfChildrenVisiting has 0.0 % of missing values\n",
      "MonthlyIncome has 0.0 % of missing values\n"
     ]
    }
   ],
   "source": [
    "data2=dataset.copy()\n",
    "for feature in numerical_feature_nan:\n",
    "    data2[feature]=data2[feature].bfill()\n",
    "\n",
    "# checking missing value percentage after performing above operation\n",
    "for feature in numerical_feature_nan:\n",
    "    print(\"{} has {} % of missing values\".format(feature, np.round((data2[feature].isnull().mean())*100,3)))"
   ]
  },
  {
   "cell_type": "markdown",
   "id": "6af88b80",
   "metadata": {},
   "source": [
    "### creating dataset after filling missing values."
   ]
  },
  {
   "cell_type": "code",
   "execution_count": 28,
   "id": "03df88dc",
   "metadata": {},
   "outputs": [
    {
     "data": {
      "text/plain": [
       "CustomerID                    0\n",
       "ProdTaken                     0\n",
       "Age                         226\n",
       "TypeofContact                 0\n",
       "CityTier                      0\n",
       "DurationOfPitch             251\n",
       "Occupation                    0\n",
       "Gender                        0\n",
       "NumberOfPersonVisiting        0\n",
       "NumberOfFollowups            45\n",
       "ProductPitched                0\n",
       "PreferredPropertyStar        26\n",
       "MaritalStatus                 0\n",
       "NumberOfTrips               140\n",
       "Passport                      0\n",
       "PitchSatisfactionScore        0\n",
       "OwnCar                        0\n",
       "NumberOfChildrenVisiting     66\n",
       "Designation                   0\n",
       "MonthlyIncome               233\n",
       "dtype: int64"
      ]
     },
     "execution_count": 28,
     "metadata": {},
     "output_type": "execute_result"
    }
   ],
   "source": [
    "### Categorical features\n",
    "\n",
    "for feature in categorical_feature_nan:\n",
    "    data1=dataset.copy()\n",
    "    value = dataset[feature].mode()[0]\n",
    "    data1[feature]=data1[feature].fillna('value')\n",
    "    \n",
    "data1.isnull().sum()"
   ]
  },
  {
   "cell_type": "code",
   "execution_count": 30,
   "id": "45e5ff81",
   "metadata": {},
   "outputs": [
    {
     "data": {
      "text/plain": [
       "CustomerID                  0\n",
       "ProdTaken                   0\n",
       "Age                         0\n",
       "TypeofContact               0\n",
       "CityTier                    0\n",
       "DurationOfPitch             0\n",
       "Occupation                  0\n",
       "Gender                      0\n",
       "NumberOfPersonVisiting      0\n",
       "NumberOfFollowups           0\n",
       "ProductPitched              0\n",
       "PreferredPropertyStar       0\n",
       "MaritalStatus               0\n",
       "NumberOfTrips               0\n",
       "Passport                    0\n",
       "PitchSatisfactionScore      0\n",
       "OwnCar                      0\n",
       "NumberOfChildrenVisiting    0\n",
       "Designation                 0\n",
       "MonthlyIncome               0\n",
       "dtype: int64"
      ]
     },
     "execution_count": 30,
     "metadata": {},
     "output_type": "execute_result"
    }
   ],
   "source": [
    "# for numerical features\n",
    "for feature in numerical_feature_nan:\n",
    "    value = data1[feature].median()\n",
    "    data1[feature]=data1[feature].fillna(value)\n",
    "    \n",
    "data1.isnull().sum()"
   ]
  },
  {
   "cell_type": "code",
   "execution_count": 33,
   "id": "68f73ceb",
   "metadata": {},
   "outputs": [],
   "source": [
    "# exporting this dataset to csv\n",
    "data1.to_csv('Travel_missing_filled.csv', index=False)"
   ]
  },
  {
   "cell_type": "code",
   "execution_count": null,
   "id": "74a5e5a2",
   "metadata": {},
   "outputs": [],
   "source": []
  }
 ],
 "metadata": {
  "kernelspec": {
   "display_name": "Python 3 (ipykernel)",
   "language": "python",
   "name": "python3"
  },
  "language_info": {
   "codemirror_mode": {
    "name": "ipython",
    "version": 3
   },
   "file_extension": ".py",
   "mimetype": "text/x-python",
   "name": "python",
   "nbconvert_exporter": "python",
   "pygments_lexer": "ipython3",
   "version": "3.9.12"
  }
 },
 "nbformat": 4,
 "nbformat_minor": 5
}
